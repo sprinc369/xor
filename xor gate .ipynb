{
 "cells": [
  {
   "cell_type": "code",
   "execution_count": 1,
   "metadata": {},
   "outputs": [],
   "source": [
    "import numpy as np\n",
    "inputLayerNeurons, hiddenLayerNeurons, outputLayerNeurons = 2,2,1\n",
    "hidden_weights = np.random.uniform(size=(inputLayerNeurons,hiddenLayerNeurons))\n",
    "hidden_bias =np.random.uniform(size=(1,hiddenLayerNeurons))\n",
    "output_weights = np.random.uniform(size=(hiddenLayerNeurons,outputLayerNeurons))\n",
    "output_bias = np.random.uniform(size=(1,outputLayerNeurons))\n"
   ]
  },
  {
   "cell_type": "code",
   "execution_count": 3,
   "metadata": {},
   "outputs": [],
   "source": [
    "inputs = np.array([[0,0],[0,1],[1,0],[1,1]])\n"
   ]
  },
  {
   "cell_type": "code",
   "execution_count": 4,
   "metadata": {},
   "outputs": [],
   "source": [
    "def sigmoid (x):\n",
    "    return 1/(1 + np.exp(-x))\n",
    "hidden_layer_activation = np.dot(inputs,hidden_weights)\n",
    "hidden_layer_activation += hidden_bias\n",
    "hidden_layer_output = sigmoid(hidden_layer_activation)\n",
    "output_layer_activation = np.dot(hidden_layer_output,output_weights)\n",
    "output_layer_activation += output_bias\n",
    "predicted_output = sigmoid(output_layer_activation)\n"
   ]
  },
  {
   "cell_type": "code",
   "execution_count": 6,
   "metadata": {},
   "outputs": [],
   "source": [
    "def sigmoid_derivative(x):\n",
    "    return x * (1 - x)\n",
    "error = expected_output - predicted_output\n",
    "d_predicted_output = error * sigmoid_derivative(predicted_output)\n",
    " \n",
    "error_hidden_layer = d_predicted_output.dot(output_weights.T)\n",
    "d_hidden_layer = error_hidden_layer * sigmoid_derivative(hidden_layer_output)\n",
    "lr=0.1\n",
    "output_weights += hidden_layer_output.T.dot(d_predicted_output) * lr\n",
    "output_bias += np.sum(d_predicted_output,axis=0,keepdims=True) * lr\n",
    "hidden_weights += inputs.T.dot(d_hidden_layer) * lr\n",
    "hidden_bias += np.sum(d_hidden_layer,axis=0,keepdims=True) * lr"
   ]
  },
  {
   "cell_type": "code",
   "execution_count": 7,
   "metadata": {},
   "outputs": [
    {
     "data": {
      "text/plain": [
       "array([[0],\n",
       "       [1],\n",
       "       [1],\n",
       "       [0]])"
      ]
     },
     "execution_count": 7,
     "metadata": {},
     "output_type": "execute_result"
    }
   ],
   "source": [
    "expected_output"
   ]
  },
  {
   "cell_type": "code",
   "execution_count": null,
   "metadata": {},
   "outputs": [],
   "source": []
  }
 ],
 "metadata": {
  "kernelspec": {
   "display_name": "Python 3 (ipykernel)",
   "language": "python",
   "name": "python3"
  },
  "language_info": {
   "codemirror_mode": {
    "name": "ipython",
    "version": 3
   },
   "file_extension": ".py",
   "mimetype": "text/x-python",
   "name": "python",
   "nbconvert_exporter": "python",
   "pygments_lexer": "ipython3",
   "version": "3.8.8"
  }
 },
 "nbformat": 4,
 "nbformat_minor": 4
}
